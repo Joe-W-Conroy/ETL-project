{
 "cells": [
  {
   "cell_type": "markdown",
   "metadata": {},
   "source": [
    "#### Disclaimer:  We do not own or claim ownership of Wikipedia or any of the information we have sourced from it.  We highly appreciate the work independent contributors have made and will use it responsibly."
   ]
  },
  {
   "cell_type": "code",
   "execution_count": 1,
   "metadata": {},
   "outputs": [],
   "source": [
    "import pandas as pd\n",
    "import re"
   ]
  },
  {
   "cell_type": "markdown",
   "metadata": {},
   "source": [
    "# Scraping Wikipedia with Pandas"
   ]
  },
  {
   "cell_type": "code",
   "execution_count": 2,
   "metadata": {},
   "outputs": [
    {
     "name": "stdout",
     "output_type": "stream",
     "text": [
      "We found 7 tables.\n"
     ]
    }
   ],
   "source": [
    "# Let's first grab the tables\n",
    "wiki_link = \"https://en.wikipedia.org/wiki/List_of_best-selling_game_consoles\"\n",
    "consoles_sold = pd.read_html(wiki_link)\n",
    "print(f\"We found {len(consoles_sold)} tables.\")"
   ]
  },
  {
   "cell_type": "code",
   "execution_count": 3,
   "metadata": {},
   "outputs": [
    {
     "name": "stdout",
     "output_type": "stream",
     "text": [
      "The largest table we grabbed is table 1.  It has a size of 40.\n"
     ]
    }
   ],
   "source": [
    "# Now let's Find the largest one\n",
    "largest_index = 0\n",
    "\n",
    "try:\n",
    "    for i in range(len(consoles_sold)):\n",
    "        if consoles_sold[i].count().max() > consoles_sold[largest_index].count().max():\n",
    "            largest_index = i\n",
    "    print(f\"The largest table we grabbed is table {largest_index + 1}.  It has a size of {consoles_sold[largest_index].count().max()}.\")\n",
    "except KeyError:\n",
    "    print(f\"We already found the largest table.  It has a size of {consoles_sold.count().max()} rows.\")"
   ]
  },
  {
   "cell_type": "code",
   "execution_count": 4,
   "metadata": {},
   "outputs": [
    {
     "name": "stdout",
     "output_type": "stream",
     "text": [
      "Converted the table successfully into a DataFrame.\n"
     ]
    }
   ],
   "source": [
    "# Now to create the pandas DataFrame\n",
    "try:\n",
    "    consoles_sold = consoles_sold[largest_index]\n",
    "    print(\"Converted the table successfully into a DataFrame.\")\n",
    "except KeyError:\n",
    "    print(\"We already converted the table into a DataFrame.\")"
   ]
  },
  {
   "cell_type": "code",
   "execution_count": 5,
   "metadata": {},
   "outputs": [
    {
     "name": "stdout",
     "output_type": "stream",
     "text": [
      "   Unnamed: 0                  Platform      Firm Released[2]      Units sold  \\\n",
      "0           0             PlayStation 2      Sony        2000    >155 million   \n",
      "1           1               Nintendo DS  Nintendo        2004  154.02 million   \n",
      "2           2  Game Boy, Game Boy Color  Nintendo  1989, 1998  118.69 million   \n",
      "\n",
      "       Ref.  \n",
      "0  [note 1]  \n",
      "1      [17]  \n",
      "2  [note 2]  \n"
     ]
    }
   ],
   "source": [
    "# Save the data to a csv\n",
    "try:\n",
    "    print(pd.read_csv(\"Wiki_Scrape.csv\").head(3))\n",
    "except:\n",
    "    consoles_sold.to_csv(\"Wiki_Scrape.csv\")"
   ]
  },
  {
   "cell_type": "markdown",
   "metadata": {},
   "source": [
    "# The DataFrame Table:"
   ]
  },
  {
   "cell_type": "code",
   "execution_count": 6,
   "metadata": {
    "scrolled": true
   },
   "outputs": [
    {
     "data": {
      "text/html": [
       "<div>\n",
       "<style scoped>\n",
       "    .dataframe tbody tr th:only-of-type {\n",
       "        vertical-align: middle;\n",
       "    }\n",
       "\n",
       "    .dataframe tbody tr th {\n",
       "        vertical-align: top;\n",
       "    }\n",
       "\n",
       "    .dataframe thead th {\n",
       "        text-align: right;\n",
       "    }\n",
       "</style>\n",
       "<table border=\"1\" class=\"dataframe\">\n",
       "  <thead>\n",
       "    <tr style=\"text-align: right;\">\n",
       "      <th></th>\n",
       "      <th>Platform</th>\n",
       "      <th>Firm</th>\n",
       "      <th>Released[2]</th>\n",
       "      <th>Units sold</th>\n",
       "      <th>Ref.</th>\n",
       "    </tr>\n",
       "  </thead>\n",
       "  <tbody>\n",
       "    <tr>\n",
       "      <th>0</th>\n",
       "      <td>PlayStation 2</td>\n",
       "      <td>Sony</td>\n",
       "      <td>2000</td>\n",
       "      <td>&gt;155 million</td>\n",
       "      <td>[note 1]</td>\n",
       "    </tr>\n",
       "    <tr>\n",
       "      <th>1</th>\n",
       "      <td>Nintendo DS family</td>\n",
       "      <td>Nintendo</td>\n",
       "      <td>2004</td>\n",
       "      <td>154.02 million</td>\n",
       "      <td>[17]</td>\n",
       "    </tr>\n",
       "    <tr>\n",
       "      <th>2</th>\n",
       "      <td>Game Boy, Game Boy Color</td>\n",
       "      <td>Nintendo</td>\n",
       "      <td>1989, 1998</td>\n",
       "      <td>118.69 million</td>\n",
       "      <td>[note 2]</td>\n",
       "    </tr>\n",
       "    <tr>\n",
       "      <th>3</th>\n",
       "      <td>PlayStation 4 #</td>\n",
       "      <td>Sony</td>\n",
       "      <td>2013</td>\n",
       "      <td>110.4 million</td>\n",
       "      <td>[32]</td>\n",
       "    </tr>\n",
       "    <tr>\n",
       "      <th>4</th>\n",
       "      <td>PlayStation</td>\n",
       "      <td>Sony</td>\n",
       "      <td>1994</td>\n",
       "      <td>102.49 million</td>\n",
       "      <td>[33]</td>\n",
       "    </tr>\n",
       "  </tbody>\n",
       "</table>\n",
       "</div>"
      ],
      "text/plain": [
       "                   Platform      Firm Released[2]      Units sold      Ref.\n",
       "0             PlayStation 2      Sony        2000    >155 million  [note 1]\n",
       "1        Nintendo DS family  Nintendo        2004  154.02 million      [17]\n",
       "2  Game Boy, Game Boy Color  Nintendo  1989, 1998  118.69 million  [note 2]\n",
       "3           PlayStation 4 #      Sony        2013   110.4 million      [32]\n",
       "4               PlayStation      Sony        1994  102.49 million      [33]"
      ]
     },
     "execution_count": 6,
     "metadata": {},
     "output_type": "execute_result"
    }
   ],
   "source": [
    "consoles_sold.head()"
   ]
  },
  {
   "cell_type": "code",
   "execution_count": 7,
   "metadata": {},
   "outputs": [
    {
     "data": {
      "text/plain": [
       "0                           PlayStation 2\n",
       "1                      Nintendo DS family\n",
       "2                Game Boy, Game Boy Color\n",
       "3                         PlayStation 4 #\n",
       "4                             PlayStation\n",
       "5                                     Wii\n",
       "6                           PlayStation 3\n",
       "7                                Xbox 360\n",
       "8                 Game Boy Advance family\n",
       "9                    PlayStation Portable\n",
       "10                  Nintendo 3DS family #\n",
       "11          Nintendo Entertainment System\n",
       "12                      Nintendo Switch #\n",
       "13    Super Nintendo Entertainment System\n",
       "14                             Xbox One #\n",
       "15                           Sega Genesis\n",
       "16                            Nintendo 64\n",
       "17                             Atari 2600\n",
       "18                                   Xbox\n",
       "19                               GameCube\n",
       "20                                  Wii U\n",
       "21                         Sega Game Gear\n",
       "22                       PlayStation Vita\n",
       "23                          Master System\n",
       "24                          TurboGrafx-16\n",
       "25                            Sega Saturn\n",
       "26                              Dreamcast\n",
       "27              Super NES Classic Edition\n",
       "28                              Sega Pico\n",
       "29                             WonderSwan\n",
       "30                          Color TV-Game\n",
       "31                          Intellivision\n",
       "32                                 N-Gage\n",
       "33                    NES Classic Edition\n",
       "34                           ColecoVision\n",
       "35                      Magnavox Odyssey²\n",
       "36                             Atari Lynx\n",
       "37                           Philips CD-i\n",
       "38                                Telstar\n",
       "39                             Atari 5200\n",
       "Name: Platform, dtype: object"
      ]
     },
     "execution_count": 7,
     "metadata": {},
     "output_type": "execute_result"
    }
   ],
   "source": [
    "platforms_wiki = consoles_sold['Platform']\n",
    "platforms_wiki"
   ]
  },
  {
   "cell_type": "markdown",
   "metadata": {},
   "source": [
    "### Now grab the content from the other video games sheet"
   ]
  },
  {
   "cell_type": "code",
   "execution_count": 8,
   "metadata": {},
   "outputs": [
    {
     "data": {
      "text/html": [
       "<div>\n",
       "<style scoped>\n",
       "    .dataframe tbody tr th:only-of-type {\n",
       "        vertical-align: middle;\n",
       "    }\n",
       "\n",
       "    .dataframe tbody tr th {\n",
       "        vertical-align: top;\n",
       "    }\n",
       "\n",
       "    .dataframe thead th {\n",
       "        text-align: right;\n",
       "    }\n",
       "</style>\n",
       "<table border=\"1\" class=\"dataframe\">\n",
       "  <thead>\n",
       "    <tr style=\"text-align: right;\">\n",
       "      <th></th>\n",
       "      <th>Name</th>\n",
       "      <th>Platform</th>\n",
       "      <th>Year_of_Release</th>\n",
       "      <th>Genre</th>\n",
       "      <th>Publisher</th>\n",
       "      <th>NA_Sales</th>\n",
       "      <th>EU_Sales</th>\n",
       "      <th>JP_Sales</th>\n",
       "      <th>Other_Sales</th>\n",
       "      <th>Global_Sales</th>\n",
       "      <th>Critic_Score</th>\n",
       "      <th>Critic_Count</th>\n",
       "      <th>User_Score</th>\n",
       "      <th>User_Count</th>\n",
       "      <th>Developer</th>\n",
       "      <th>Rating</th>\n",
       "    </tr>\n",
       "  </thead>\n",
       "  <tbody>\n",
       "    <tr>\n",
       "      <th>0</th>\n",
       "      <td>Wii Sports</td>\n",
       "      <td>Wii</td>\n",
       "      <td>2006.0</td>\n",
       "      <td>Sports</td>\n",
       "      <td>Nintendo</td>\n",
       "      <td>41.36</td>\n",
       "      <td>28.96</td>\n",
       "      <td>3.77</td>\n",
       "      <td>8.45</td>\n",
       "      <td>82.53</td>\n",
       "      <td>76.0</td>\n",
       "      <td>51.0</td>\n",
       "      <td>8</td>\n",
       "      <td>322.0</td>\n",
       "      <td>Nintendo</td>\n",
       "      <td>E</td>\n",
       "    </tr>\n",
       "    <tr>\n",
       "      <th>1</th>\n",
       "      <td>Super Mario Bros.</td>\n",
       "      <td>NES</td>\n",
       "      <td>1985.0</td>\n",
       "      <td>Platform</td>\n",
       "      <td>Nintendo</td>\n",
       "      <td>29.08</td>\n",
       "      <td>3.58</td>\n",
       "      <td>6.81</td>\n",
       "      <td>0.77</td>\n",
       "      <td>40.24</td>\n",
       "      <td>NaN</td>\n",
       "      <td>NaN</td>\n",
       "      <td>NaN</td>\n",
       "      <td>NaN</td>\n",
       "      <td>NaN</td>\n",
       "      <td>NaN</td>\n",
       "    </tr>\n",
       "    <tr>\n",
       "      <th>2</th>\n",
       "      <td>Mario Kart Wii</td>\n",
       "      <td>Wii</td>\n",
       "      <td>2008.0</td>\n",
       "      <td>Racing</td>\n",
       "      <td>Nintendo</td>\n",
       "      <td>15.68</td>\n",
       "      <td>12.76</td>\n",
       "      <td>3.79</td>\n",
       "      <td>3.29</td>\n",
       "      <td>35.52</td>\n",
       "      <td>82.0</td>\n",
       "      <td>73.0</td>\n",
       "      <td>8.3</td>\n",
       "      <td>709.0</td>\n",
       "      <td>Nintendo</td>\n",
       "      <td>E</td>\n",
       "    </tr>\n",
       "    <tr>\n",
       "      <th>3</th>\n",
       "      <td>Wii Sports Resort</td>\n",
       "      <td>Wii</td>\n",
       "      <td>2009.0</td>\n",
       "      <td>Sports</td>\n",
       "      <td>Nintendo</td>\n",
       "      <td>15.61</td>\n",
       "      <td>10.93</td>\n",
       "      <td>3.28</td>\n",
       "      <td>2.95</td>\n",
       "      <td>32.77</td>\n",
       "      <td>80.0</td>\n",
       "      <td>73.0</td>\n",
       "      <td>8</td>\n",
       "      <td>192.0</td>\n",
       "      <td>Nintendo</td>\n",
       "      <td>E</td>\n",
       "    </tr>\n",
       "    <tr>\n",
       "      <th>4</th>\n",
       "      <td>Pokemon Red/Pokemon Blue</td>\n",
       "      <td>GB</td>\n",
       "      <td>1996.0</td>\n",
       "      <td>Role-Playing</td>\n",
       "      <td>Nintendo</td>\n",
       "      <td>11.27</td>\n",
       "      <td>8.89</td>\n",
       "      <td>10.22</td>\n",
       "      <td>1.00</td>\n",
       "      <td>31.37</td>\n",
       "      <td>NaN</td>\n",
       "      <td>NaN</td>\n",
       "      <td>NaN</td>\n",
       "      <td>NaN</td>\n",
       "      <td>NaN</td>\n",
       "      <td>NaN</td>\n",
       "    </tr>\n",
       "  </tbody>\n",
       "</table>\n",
       "</div>"
      ],
      "text/plain": [
       "                       Name Platform  Year_of_Release         Genre Publisher  \\\n",
       "0                Wii Sports      Wii           2006.0        Sports  Nintendo   \n",
       "1         Super Mario Bros.      NES           1985.0      Platform  Nintendo   \n",
       "2            Mario Kart Wii      Wii           2008.0        Racing  Nintendo   \n",
       "3         Wii Sports Resort      Wii           2009.0        Sports  Nintendo   \n",
       "4  Pokemon Red/Pokemon Blue       GB           1996.0  Role-Playing  Nintendo   \n",
       "\n",
       "   NA_Sales  EU_Sales  JP_Sales  Other_Sales  Global_Sales  Critic_Score  \\\n",
       "0     41.36     28.96      3.77         8.45         82.53          76.0   \n",
       "1     29.08      3.58      6.81         0.77         40.24           NaN   \n",
       "2     15.68     12.76      3.79         3.29         35.52          82.0   \n",
       "3     15.61     10.93      3.28         2.95         32.77          80.0   \n",
       "4     11.27      8.89     10.22         1.00         31.37           NaN   \n",
       "\n",
       "   Critic_Count User_Score  User_Count Developer Rating  \n",
       "0          51.0          8       322.0  Nintendo      E  \n",
       "1           NaN        NaN         NaN       NaN    NaN  \n",
       "2          73.0        8.3       709.0  Nintendo      E  \n",
       "3          73.0          8       192.0  Nintendo      E  \n",
       "4           NaN        NaN         NaN       NaN    NaN  "
      ]
     },
     "execution_count": 8,
     "metadata": {},
     "output_type": "execute_result"
    }
   ],
   "source": [
    "the_other_table = pd.read_csv('Video_Games.csv')\n",
    "the_other_table.head()"
   ]
  },
  {
   "cell_type": "code",
   "execution_count": 9,
   "metadata": {
    "scrolled": false
   },
   "outputs": [
    {
     "name": "stdout",
     "output_type": "stream",
     "text": [
      "Wii\n",
      "NES\n",
      "GB\n",
      "DS\n",
      "X360\n",
      "PS3\n",
      "PS2\n",
      "SNES\n",
      "GBA\n",
      "PS4\n",
      "3DS\n",
      "N64\n",
      "PS\n",
      "XB\n",
      "PC\n",
      "2600\n",
      "PSP\n",
      "XOne\n",
      "WiiU\n",
      "GC\n",
      "GEN\n",
      "DC\n",
      "PSV\n",
      "SAT\n",
      "SCD\n",
      "WS\n",
      "NG\n",
      "TG16\n",
      "3DO\n",
      "GG\n",
      "PCFX\n"
     ]
    }
   ],
   "source": [
    "platforms_base = []\n",
    "\n",
    "for console in the_other_table['Platform']:\n",
    "    if console not in platforms_base:\n",
    "        platforms_base.append(console)\n",
    "\n",
    "for code in platforms_base:\n",
    "    print(code)"
   ]
  },
  {
   "cell_type": "code",
   "execution_count": 10,
   "metadata": {
    "scrolled": true
   },
   "outputs": [
    {
     "name": "stdout",
     "output_type": "stream",
     "text": [
      "Don't have Nintendo Switch #; 'NS' doesn't match\n",
      "Don't have Master System; 'MS' doesn't match\n",
      "Don't have TurboGrafx-16; 'TG-16' doesn't match\n",
      "Don't have Dreamcast; 'D' doesn't match\n",
      "Don't have Super NES Classic Edition; 'D' doesn't match\n",
      "Don't have Sega Pico; 'P' doesn't match\n",
      "Don't have Color TV-Game; 'CTV-G' doesn't match\n",
      "Don't have Intellivision; 'I' doesn't match\n",
      "Don't have N-Gage; 'N-G' doesn't match\n",
      "Don't have NES Classic Edition; 'N-G' doesn't match\n",
      "Don't have ColecoVision; 'CV' doesn't match\n",
      "Don't have Magnavox Odyssey²; 'MO²' doesn't match\n",
      "Don't have Atari Lynx; 'L' doesn't match\n",
      "Don't have Philips CD-i; 'PCD-' doesn't match\n",
      "Don't have Telstar; 'T' doesn't match\n",
      "Don't have Atari 5200; '5200' doesn't match\n"
     ]
    }
   ],
   "source": [
    "sorted_set = {}\n",
    "\n",
    "for console in platforms_wiki:\n",
    "    if console in platforms_base:\n",
    "        sorted_set[console] = console\n",
    "    else:\n",
    "        found = False\n",
    "        if (\"Sega\" in console):\n",
    "            # Sega ones\n",
    "            console_Acronym_Check = re.sub(\"Sega| \", \"\", console)\n",
    "\n",
    "            if re.search(\"Saturn|Genesis\", console_Acronym_Check):\n",
    "                console_Acronym_Check = console_Acronym_Check[0:3].upper()\n",
    "            else:\n",
    "                console_Acronym_Check = re.sub(\"[a-z ,#]\", \"\", console_Acronym_Check)\n",
    "        elif \"Xbox\" == console:\n",
    "            # Lazy Xbox one\n",
    "            sorted_set[console] = \"XB\"\n",
    "            continue\n",
    "        elif \"DS\" in console:\n",
    "            # Lazy DS one\n",
    "            if \"3\" in console:\n",
    "                sorted_set[console] = \"3DS\"\n",
    "            else:\n",
    "                sorted_set[console] = \"DS\"\n",
    "            continue\n",
    "        elif \"Game Boy\" in console:\n",
    "            # Game boy lazy\n",
    "            if \"Advance\" in console:\n",
    "                sorted_set[console] = \"GBA\"\n",
    "            else:\n",
    "                sorted_set[console] = \"GB\"\n",
    "            continue\n",
    "        elif \"NES\" in console:\n",
    "            if \"Super NES\" in console:\n",
    "                sorted_set[console] = \"SNES\"\n",
    "            else:\n",
    "                sorted_set[console] = \"NES\"\n",
    "        else:\n",
    "            # The rest\n",
    "            console_Acronym_Check = re.sub(\"[a-z ,#]|Atari\", \"\", console)\n",
    "\n",
    "        for toy in platforms_base:\n",
    "            toy_Acronym_Check = re.sub(\"[a-z ,#]\", \"\", toy)\n",
    "\n",
    "            if (console_Acronym_Check == toy_Acronym_Check) and re.search(toy, console):\n",
    "                found = True\n",
    "                break\n",
    "            elif (console_Acronym_Check == toy_Acronym_Check):\n",
    "                found = True\n",
    "                break\n",
    "\n",
    "        if found:\n",
    "            sorted_set[console] = toy\n",
    "        else:\n",
    "            print(f\"Don't have {console}; '{console_Acronym_Check}' doesn't match\")"
   ]
  },
  {
   "cell_type": "code",
   "execution_count": 15,
   "metadata": {},
   "outputs": [
    {
     "name": "stdout",
     "output_type": "stream",
     "text": [
      "Key 'PS2' DNE\n",
      "Key 'DS' DNE\n",
      "Key 'GB' DNE\n",
      "Key 'PS4' DNE\n",
      "Key 'PS' DNE\n",
      "Key 'PS3' DNE\n",
      "Key 'X360' DNE\n",
      "Key 'GBA' DNE\n",
      "Key 'PSP' DNE\n",
      "Key '3DS' DNE\n",
      "Key 'NES' DNE\n",
      "Key 'Nintendo Switch #' DNE\n",
      "Key 'SNES' DNE\n",
      "Key 'XOne' DNE\n",
      "Key 'GEN' DNE\n",
      "Key 'N64' DNE\n",
      "Key '2600' DNE\n",
      "Key 'XB' DNE\n",
      "Key 'GC' DNE\n",
      "Key 'WiiU' DNE\n",
      "Key 'GG' DNE\n",
      "Key 'PSV' DNE\n",
      "Key 'Master System' DNE\n",
      "Key 'TurboGrafx-16' DNE\n",
      "Key 'SAT' DNE\n",
      "Key 'Dreamcast' DNE\n",
      "Key 'SNES' DNE\n",
      "Key 'Sega Pico' DNE\n",
      "Key 'WS' DNE\n",
      "Key 'Color TV-Game' DNE\n",
      "Key 'Intellivision' DNE\n",
      "Key 'N-Gage' DNE\n",
      "Key 'NES' DNE\n",
      "Key 'ColecoVision' DNE\n",
      "Key 'Magnavox Odyssey²' DNE\n",
      "Key 'Atari Lynx' DNE\n",
      "Key 'Philips CD-i' DNE\n",
      "Key 'Telstar' DNE\n",
      "Key 'Atari 5200' DNE\n"
     ]
    }
   ],
   "source": [
    "for i in range (len(platforms_wiki)):\n",
    "    try:\n",
    "        consoles_sold['Platform'][i] = sorted_set[platforms_wiki[i]]\n",
    "    except KeyError as error_msg:\n",
    "        print(f\"Key '{platforms_wiki[i]}' DNE\")"
   ]
  },
  {
   "cell_type": "code",
   "execution_count": 12,
   "metadata": {},
   "outputs": [
    {
     "data": {
      "text/html": [
       "<div>\n",
       "<style scoped>\n",
       "    .dataframe tbody tr th:only-of-type {\n",
       "        vertical-align: middle;\n",
       "    }\n",
       "\n",
       "    .dataframe tbody tr th {\n",
       "        vertical-align: top;\n",
       "    }\n",
       "\n",
       "    .dataframe thead th {\n",
       "        text-align: right;\n",
       "    }\n",
       "</style>\n",
       "<table border=\"1\" class=\"dataframe\">\n",
       "  <thead>\n",
       "    <tr style=\"text-align: right;\">\n",
       "      <th></th>\n",
       "      <th>Platform</th>\n",
       "      <th>Firm</th>\n",
       "      <th>Released[2]</th>\n",
       "      <th>Units sold</th>\n",
       "      <th>Ref.</th>\n",
       "    </tr>\n",
       "  </thead>\n",
       "  <tbody>\n",
       "    <tr>\n",
       "      <th>0</th>\n",
       "      <td>PS2</td>\n",
       "      <td>Sony</td>\n",
       "      <td>2000</td>\n",
       "      <td>&gt;155 million</td>\n",
       "      <td>[note 1]</td>\n",
       "    </tr>\n",
       "    <tr>\n",
       "      <th>1</th>\n",
       "      <td>DS</td>\n",
       "      <td>Nintendo</td>\n",
       "      <td>2004</td>\n",
       "      <td>154.02 million</td>\n",
       "      <td>[17]</td>\n",
       "    </tr>\n",
       "    <tr>\n",
       "      <th>2</th>\n",
       "      <td>GB</td>\n",
       "      <td>Nintendo</td>\n",
       "      <td>1989, 1998</td>\n",
       "      <td>118.69 million</td>\n",
       "      <td>[note 2]</td>\n",
       "    </tr>\n",
       "    <tr>\n",
       "      <th>3</th>\n",
       "      <td>PS4</td>\n",
       "      <td>Sony</td>\n",
       "      <td>2013</td>\n",
       "      <td>110.4 million</td>\n",
       "      <td>[32]</td>\n",
       "    </tr>\n",
       "    <tr>\n",
       "      <th>4</th>\n",
       "      <td>PS</td>\n",
       "      <td>Sony</td>\n",
       "      <td>1994</td>\n",
       "      <td>102.49 million</td>\n",
       "      <td>[33]</td>\n",
       "    </tr>\n",
       "  </tbody>\n",
       "</table>\n",
       "</div>"
      ],
      "text/plain": [
       "  Platform      Firm Released[2]      Units sold      Ref.\n",
       "0      PS2      Sony        2000    >155 million  [note 1]\n",
       "1       DS  Nintendo        2004  154.02 million      [17]\n",
       "2       GB  Nintendo  1989, 1998  118.69 million  [note 2]\n",
       "3      PS4      Sony        2013   110.4 million      [32]\n",
       "4       PS      Sony        1994  102.49 million      [33]"
      ]
     },
     "execution_count": 12,
     "metadata": {},
     "output_type": "execute_result"
    }
   ],
   "source": [
    "consoles_sold.head()"
   ]
  }
 ],
 "metadata": {
  "kernelspec": {
   "display_name": "Python 3",
   "language": "python",
   "name": "python3"
  },
  "language_info": {
   "codemirror_mode": {
    "name": "ipython",
    "version": 3
   },
   "file_extension": ".py",
   "mimetype": "text/x-python",
   "name": "python",
   "nbconvert_exporter": "python",
   "pygments_lexer": "ipython3",
   "version": "3.6.10"
  }
 },
 "nbformat": 4,
 "nbformat_minor": 4
}
